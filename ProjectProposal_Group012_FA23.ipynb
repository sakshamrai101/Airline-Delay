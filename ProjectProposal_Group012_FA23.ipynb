{
 "cells": [
  {
   "cell_type": "markdown",
   "metadata": {},
   "source": [
    "# COGS 108 - Project Proposal"
   ]
  },
  {
   "cell_type": "markdown",
   "metadata": {},
   "source": [
    "# Names\n",
    "\n",
    "- James Zheng\n",
    "- Boden Haber\n",
    "- Saksham Rai\n",
    "- Arnav Ghai\n",
    "- Nathan Keodara"
   ]
  },
  {
   "cell_type": "markdown",
   "metadata": {},
   "source": [
    "# Research Question"
   ]
  },
  {
   "cell_type": "markdown",
   "metadata": {},
   "source": [
    "Does paying a higher price for a flight ticket directly correlate with delays that are shorter than average when flying on domestic flights in the US?"
   ]
  },
  {
   "cell_type": "markdown",
   "metadata": {},
   "source": [
    "## Background and Prior Work"
   ]
  },
  {
   "cell_type": "markdown",
   "metadata": {},
   "source": [
    "When traveling, flight delays can be problematic for both travelers and the airline. For the traveler, they risk wasting time stuck in an airport or potentially missing out on time-sensitive events on arrival. For the airlines, delays can cascade into interfering with other flight landings, full day delays, and losing customers.<a name=\"cite_ref-3\"></a>[<sup>1</sup>](#cite_note-3) As a result, understanding the nature of delays would be immensely valuable for planning by travelers and airlines.\n",
    "\n",
    "There are many previous works looking for patterns in flight delays. For example, Mitsokapas, et. al. 's research paper attempts to create a statistical model for the probability of a flight being delayed by increasing amounts of time.<a name=\"cite_ref-3\"></a>[<sup>1</sup>](#cite_note-3) While the overall model does not provide any new insights, the authors found that airlines tend to produce the most similar delay distributions within itself. YY’s article, on the other hand, presents a possible predictive model for flight delays. They find that flight departure time is one of the most predictive features for delays.<a name=\"cite_ref-4\"></a>[<sup>2</sup>](#cite_note-4)\n",
    "\n",
    "In both cases, the past works have shown that predicting flight delays is both possible and worthwhile. Because airline company policy for flight schedules is not readily available, we have chosen to approach the problem from the traveler’s side. The chief concern of travelers is usually price, so we have decided to investigate whether flight prices can indicate the amount of flight delay, helping gauge if there’s a hidden cost to pursuing the cheapest prices.\n",
    "\n",
    "\n",
    "1. <a name='cite_note-3'></a> [^](#cite_ref-3) Mitsokapas, E., Schäfer, B., Harris, R.J. et al. \\“Statistical characterization of airplane delays.\\” Sci Rep 11, 7855 (2021). https://doi.org/10.1038/s41598-021-87279-8\n",
    "2. <a name='cite_note-4'></a> [^](#cite_ref-4) YY (6 May 2020). “Predicting Flight Delays Through Modeling U.S. Flight Data.” Medium. https://medium.com/analytics-vidhya/modeling-flight-delays-through-u-s-flight-data-2f0b3d7e2c89"
   ]
  },
  {
   "cell_type": "markdown",
   "metadata": {},
   "source": [
    "# Hypothesis\n"
   ]
  },
  {
   "cell_type": "markdown",
   "metadata": {},
   "source": [
    "We hypothesize that higher priced flights will generally have less delays. While all airlines are subject to weather delays, we think that because airlines that charge higher prices for tickets they invest more into minimizing delays caused by human error. They strive to deliver a higher level of service at that price point, and so delays caused by mechanical issues, flight crew tardiness, etc. will be less common. \n",
    "\n",
    "Our main hypothesis/predictions about the answer to our research question is that the answer is generally yes. We are aware that every airline, regardless of how expensive its airfare is,  are all subject to factors that cause delays that they can’t control (ex. weather). We do however, predict that airlines who charge a higher price, are charging that price to be able to provide a higher quality service. Meaning that there are higher expectations for employees and less room for tolerated human error, thus making delays less common than on airlines charging a lower rate.\n"
   ]
  },
  {
   "cell_type": "markdown",
   "metadata": {},
   "source": [
    "# Data"
   ]
  },
  {
   "cell_type": "markdown",
   "metadata": {},
   "source": [
    "The ideal data set for our project would contain information on all flights being operated in the US and ideally have the following variables: Airline name, Price of airfare, Scheduled departure time, Scheduled arrival time, Delay (Y/N), Cause of delay, Length of delay, Departure airport, Arrival airport. We ideally would have data spanning at least a couple years, with around 20,000+ observations. The data would ideally already be in a CSV file and so we would just need to import it into jupyter notebooks and organize it in a dataframe. \n",
    "\n",
    "We have already found a data set available on the US Bureau of Transportation website that contains all of the data on flight delays since 2018. Every domestic flight is logged in these datasets and so it is a complete list of every flight we would be hoping to look at. The BTS data set variables are: carrier, scheduled and actual departure and arrival times, canceled and diverted flights, taxi-out and taxi-in times, causes of delay and cancellation, air time, and non-stop distance. This should cover all of our needs for data on flight information. We have also found a few potential datasets on Kaggle and another on BTS that contain airfare information, and so all we would need to do is merge the two and match them up, which might be difficult and isn’t ideal, but should be doable. We also would like a dataset that provides the airline, data of departure, data on which the ticket price was checked, flight length, and the ticket price."
   ]
  },
  {
   "cell_type": "markdown",
   "metadata": {},
   "source": [
    "# Ethics & Privacy"
   ]
  },
  {
   "cell_type": "markdown",
   "metadata": {},
   "source": [
    "During the initial stages of our project, our primary dataset in consideration is from the U.S. Bureau of Transportation which contains a comprehensive log of all domestic flights delays  in the US since 2018. It includes information about different types of delays including weather, security, system delay, etc. Possible ethical concerns related that could be:\n",
    "\n",
    "* Bias and Representation: The dataset, while extensive, may not fully capture all the reasons for flight delays, specifically for  smaller airlines or less-traveled routes. There's potential for over-representation of dominant airline concerns or under-representation of issues faced by minority or economically disadvantaged groups who might be affected differently by such delays.\n",
    "* Data Privacy and Sensitivity: While the dataset might not include individual passenger details, the granular break-up of delay causes could be sensitive. For instance, consistent security delays at a particular airport might raise unwarranted concerns among passengers, even if these were minor or non-threatening issues. Other potential security concerns might arise as we along with the project. \n",
    "* Methodological Ethics: Underlying reasons for potential conclusions from preliminary data analysis might be ignored.  For instance, system delays could be a technological glitch, understaffing, or other factors. Misinterpreting or oversimplifying such causes could lead to skewed or non-directive analysis. \n",
    "\n",
    "In addition to this, other potential datasets that we could potentially use/merge would ideally contain information about Flight Times, Price Fare, Delay Duration, Arrival and Departure airport and specific airport information. There are potential ethical concerns attached to this too.. Firstly, the process of merging disparate datasets might lead to inconsistencies or biases, possibly skewing our findings. Furthermore, drawing inferred links between Price Fare and flight delays could inadvertently cast misperceptions about certain airlines' value propositions. On the privacy front, while individual identities aren't explicit, there's a subtle risk of indirectly identifying frequent travelers  through overlapped dataset details regarding frequently picked airlines to travel, frequent class to travel and whether its a cheap or an expensive one, etc. Finally, merging varied data can sometimes obfuscate the distinction between correlation and causation, leading to conclusions that might be misleading. As we progress, it's crucial that these ethical considerations remain at the forefront of our analytical work.\n",
    "\n"
   ]
  },
  {
   "cell_type": "markdown",
   "metadata": {},
   "source": [
    "# Team Expectations "
   ]
  },
  {
   "cell_type": "markdown",
   "metadata": {},
   "source": [
    "\n",
    "* *Team Expectation 1:* Responding to our team's Discord group in a timely manner for quick communication throughout the quarter.\n",
    "* *Team Expectation 2:* If any conflict arise with regard to project work, get input from other team members.\n",
    "* *Team Expecation 3:* Spend an equal amount of time of work on each part of the project.\n",
    "* *Team Expectation 4:* Each (or majority of) team member(s) should look over the final submission of each part to double check the work. "
   ]
  },
  {
   "cell_type": "markdown",
   "metadata": {},
   "source": [
    "# Project Timeline Proposal"
   ]
  },
  {
   "cell_type": "markdown",
   "metadata": {},
   "source": [
    "| Meeting Date  | Meeting Time| Completed Before Meeting and Discussion | |\n",
    "|---|---|---|---|\n",
    "| 11/8/2023  |  9 PM | Finalize all the datasets we could find and begin discussing ideas for data wrangling. Adjust our research question accordingly for the variables we have | \n",
    "| 11/14/2023  |  9 PM |  Submit the data checkpoint. Implement data wrangling ideas and find potentially issues with our initial approach. | \n",
    "| 11/21/2023  | 9 PM  |  Discuss potentially ideas for exploratory data analysis and implement the first few. Discuss potential problems with our data that we find. |\n",
    "| 11/28/2023 | 9 PM  | Adjust the dataset accordingly for systematic issues we find. Submit the exploratory data analysis.   |\n",
    "| 12/04/2023  | 9 PM  | Perform final inferential data analysis after properly cleaning through data for any artefacts we previously detected |\n",
    "| 12/08/2023  | 9 PM  | Confirm final results and draft up the documentation for the final project notebook |\n",
    "| 12/10/2023  | 9 pm  | Record our final presentation |"
   ]
  }
 ],
 "metadata": {
  "kernelspec": {
   "display_name": "python3",
   "language": "python",
   "name": "python3"
  }
 },
 "nbformat": 4,
 "nbformat_minor": 2
}
